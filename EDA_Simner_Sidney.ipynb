{
  "nbformat": 4,
  "nbformat_minor": 0,
  "metadata": {
    "colab": {
      "name": "EDA_Simner_Sidney.ipynb",
      "provenance": []
    },
    "kernelspec": {
      "name": "python3",
      "display_name": "Python 3"
    }
  },
  "cells": [
    {
      "cell_type": "markdown",
      "metadata": {
        "id": "OZvpmpNJbzR6"
      },
      "source": [
        "# Exploratory Data Analysis Project \n",
        "\n",
        "---\n",
        "\n",
        "\n",
        "Sidney Simner\n"
      ]
    },
    {
      "cell_type": "markdown",
      "metadata": {
        "id": "P28tOjIWcipE"
      },
      "source": [
        " **This data exploration with utilize the Titanic dataset**\n",
        " \n",
        "Data may be found on Kaggle (use the train file): \n",
        " https://www.kaggle.com/c/titanic/data?select=test.csv"
      ]
    },
    {
      "cell_type": "markdown",
      "metadata": {
        "id": "twkR2ZPOe8yr"
      },
      "source": [
        "##Data Collection and Preparation "
      ]
    },
    {
      "cell_type": "code",
      "metadata": {
        "id": "SJxNERfde5yD"
      },
      "source": [
        "import pandas as pd\n",
        "from datetime import datetime\n",
        "import matplotlib.pyplot as plt"
      ],
      "execution_count": 1,
      "outputs": []
    },
    {
      "cell_type": "code",
      "metadata": {
        "id": "1oJMpKYPfr9R"
      },
      "source": [
        "#import the data\n",
        "titanic = pd.read_csv('train.csv')"
      ],
      "execution_count": 2,
      "outputs": []
    },
    {
      "cell_type": "code",
      "metadata": {
        "colab": {
          "base_uri": "https://localhost:8080/",
          "height": 204
        },
        "id": "_u2FcF47fvKQ",
        "outputId": "a88d9138-abcd-4c2e-c932-5a058fcb5c6d"
      },
      "source": [
        "titanic.head()"
      ],
      "execution_count": 3,
      "outputs": [
        {
          "output_type": "execute_result",
          "data": {
            "text/html": [
              "<div>\n",
              "<style scoped>\n",
              "    .dataframe tbody tr th:only-of-type {\n",
              "        vertical-align: middle;\n",
              "    }\n",
              "\n",
              "    .dataframe tbody tr th {\n",
              "        vertical-align: top;\n",
              "    }\n",
              "\n",
              "    .dataframe thead th {\n",
              "        text-align: right;\n",
              "    }\n",
              "</style>\n",
              "<table border=\"1\" class=\"dataframe\">\n",
              "  <thead>\n",
              "    <tr style=\"text-align: right;\">\n",
              "      <th></th>\n",
              "      <th>PassengerId</th>\n",
              "      <th>Survived</th>\n",
              "      <th>Pclass</th>\n",
              "      <th>Name</th>\n",
              "      <th>Sex</th>\n",
              "      <th>Age</th>\n",
              "      <th>SibSp</th>\n",
              "      <th>Parch</th>\n",
              "      <th>Ticket</th>\n",
              "      <th>Fare</th>\n",
              "      <th>Cabin</th>\n",
              "      <th>Embarked</th>\n",
              "    </tr>\n",
              "  </thead>\n",
              "  <tbody>\n",
              "    <tr>\n",
              "      <th>0</th>\n",
              "      <td>1</td>\n",
              "      <td>0</td>\n",
              "      <td>3</td>\n",
              "      <td>Braund, Mr. Owen Harris</td>\n",
              "      <td>male</td>\n",
              "      <td>22.0</td>\n",
              "      <td>1</td>\n",
              "      <td>0</td>\n",
              "      <td>A/5 21171</td>\n",
              "      <td>7.2500</td>\n",
              "      <td>NaN</td>\n",
              "      <td>S</td>\n",
              "    </tr>\n",
              "    <tr>\n",
              "      <th>1</th>\n",
              "      <td>2</td>\n",
              "      <td>1</td>\n",
              "      <td>1</td>\n",
              "      <td>Cumings, Mrs. John Bradley (Florence Briggs Th...</td>\n",
              "      <td>female</td>\n",
              "      <td>38.0</td>\n",
              "      <td>1</td>\n",
              "      <td>0</td>\n",
              "      <td>PC 17599</td>\n",
              "      <td>71.2833</td>\n",
              "      <td>C85</td>\n",
              "      <td>C</td>\n",
              "    </tr>\n",
              "    <tr>\n",
              "      <th>2</th>\n",
              "      <td>3</td>\n",
              "      <td>1</td>\n",
              "      <td>3</td>\n",
              "      <td>Heikkinen, Miss. Laina</td>\n",
              "      <td>female</td>\n",
              "      <td>26.0</td>\n",
              "      <td>0</td>\n",
              "      <td>0</td>\n",
              "      <td>STON/O2. 3101282</td>\n",
              "      <td>7.9250</td>\n",
              "      <td>NaN</td>\n",
              "      <td>S</td>\n",
              "    </tr>\n",
              "    <tr>\n",
              "      <th>3</th>\n",
              "      <td>4</td>\n",
              "      <td>1</td>\n",
              "      <td>1</td>\n",
              "      <td>Futrelle, Mrs. Jacques Heath (Lily May Peel)</td>\n",
              "      <td>female</td>\n",
              "      <td>35.0</td>\n",
              "      <td>1</td>\n",
              "      <td>0</td>\n",
              "      <td>113803</td>\n",
              "      <td>53.1000</td>\n",
              "      <td>C123</td>\n",
              "      <td>S</td>\n",
              "    </tr>\n",
              "    <tr>\n",
              "      <th>4</th>\n",
              "      <td>5</td>\n",
              "      <td>0</td>\n",
              "      <td>3</td>\n",
              "      <td>Allen, Mr. William Henry</td>\n",
              "      <td>male</td>\n",
              "      <td>35.0</td>\n",
              "      <td>0</td>\n",
              "      <td>0</td>\n",
              "      <td>373450</td>\n",
              "      <td>8.0500</td>\n",
              "      <td>NaN</td>\n",
              "      <td>S</td>\n",
              "    </tr>\n",
              "  </tbody>\n",
              "</table>\n",
              "</div>"
            ],
            "text/plain": [
              "   PassengerId  Survived  Pclass  ...     Fare Cabin  Embarked\n",
              "0            1         0       3  ...   7.2500   NaN         S\n",
              "1            2         1       1  ...  71.2833   C85         C\n",
              "2            3         1       3  ...   7.9250   NaN         S\n",
              "3            4         1       1  ...  53.1000  C123         S\n",
              "4            5         0       3  ...   8.0500   NaN         S\n",
              "\n",
              "[5 rows x 12 columns]"
            ]
          },
          "metadata": {
            "tags": []
          },
          "execution_count": 3
        }
      ]
    },
    {
      "cell_type": "markdown",
      "metadata": {
        "id": "ZqebRbrStYtR"
      },
      "source": [
        "We can see this data contains 12 columns of data all pertaining to characteristics of a passanger on the titanic"
      ]
    },
    {
      "cell_type": "code",
      "metadata": {
        "colab": {
          "base_uri": "https://localhost:8080/"
        },
        "id": "L7EseWdMttg7",
        "outputId": "18dd47c0-8ac6-4165-ae49-400b7765ec7f"
      },
      "source": [
        "#shows how many rows of data, or passangers, there are\n",
        "titanic.PassengerId.count()"
      ],
      "execution_count": 4,
      "outputs": [
        {
          "output_type": "execute_result",
          "data": {
            "text/plain": [
              "891"
            ]
          },
          "metadata": {
            "tags": []
          },
          "execution_count": 4
        }
      ]
    },
    {
      "cell_type": "markdown",
      "metadata": {
        "id": "nH0Q1XaHuFPF"
      },
      "source": [
        "The above count shows there are 891 passangers for whom data is accounted for. Outside research tell us there were actually 2435 passangers on the ship (excluding crew). This means this data set is incomplete and may be skewed to reflect more data on high class status passangers as they be better accounted for "
      ]
    },
    {
      "cell_type": "code",
      "metadata": {
        "colab": {
          "base_uri": "https://localhost:8080/"
        },
        "id": "XxlQRz2Eu3mh",
        "outputId": "9e3dbe24-81f7-4e6d-fccd-48193476253a"
      },
      "source": [
        "#shows if any coulmns are missing data values\n",
        "titanic.count()"
      ],
      "execution_count": 5,
      "outputs": [
        {
          "output_type": "execute_result",
          "data": {
            "text/plain": [
              "PassengerId    891\n",
              "Survived       891\n",
              "Pclass         891\n",
              "Name           891\n",
              "Sex            891\n",
              "Age            714\n",
              "SibSp          891\n",
              "Parch          891\n",
              "Ticket         891\n",
              "Fare           891\n",
              "Cabin          204\n",
              "Embarked       889\n",
              "dtype: int64"
            ]
          },
          "metadata": {
            "tags": []
          },
          "execution_count": 5
        }
      ]
    },
    {
      "cell_type": "markdown",
      "metadata": {
        "id": "5IWfkgywvG01"
      },
      "source": [
        "the above counts shows that all passangers have an ID, survival status, name, passanger class, sex, sibling and parantage status, ticket number, and fare accounted for. The age, cabin, and port of embarkment columns are missing some values which may pose an issue for statistics and should be noted for later reference.\n"
      ]
    },
    {
      "cell_type": "markdown",
      "metadata": {
        "id": "fPdswYHxvyMs"
      },
      "source": [
        "Variable discriptions are provided below"
      ]
    },
    {
      "cell_type": "markdown",
      "metadata": {
        "id": "vcy2saEtf_ug"
      },
      "source": [
        "\n",
        "Source: data dictionary https://www.kaggle.com/c/titanic/data\n",
        "\n",
        "\n",
        "---\n",
        "\n",
        "\n",
        "**VARIABLE DESCRIPTIONS:**\n",
        "\n",
        "Survived = Survival (target, or dependent, variable) (0 = No; 1 = Yes)\n",
        "\n",
        "Pclass = Passenger Class (1 = 1st; 2 = 2nd; 3 = 3rd)\n",
        "\n",
        "Name = Name\n",
        "\n",
        "Sex = Sex\n",
        "\n",
        "Age = Age\n",
        "\n",
        "Sibsp = Number of Siblings/Spouses Aboard\n",
        "\n",
        "Parch = Number of Parents/Children Aboard\n",
        "\n",
        "Ticket = Ticket Number\n",
        "\n",
        "Fare = Passenger Fare\n",
        "\n",
        "Cabin = Cabin\n",
        "\n",
        "Embarked = Port of Embarkation (C = Cherbourg; Q = Queenstown; S = Southampton)\n",
        "\n",
        "\n",
        "---\n",
        "\n",
        "\n",
        "**SPECIAL NOTES:**\n",
        "\n",
        "Pclass is a proxy for socio-economic status (SES)\n",
        " 1st ~ Upper; 2nd ~ Middle; 3rd ~ Lower\n",
        "\n",
        "Age is in Years; Fractional if Age less than One (1)\n",
        " If the Age is Estimated, it is in the form xx.5\n",
        "\n"
      ]
    },
    {
      "cell_type": "markdown",
      "metadata": {
        "id": "1lx6o1M1v5xH"
      },
      "source": [
        "Age, Cabin, and Embarkment were previously identified to be missing values. The extensiveness of these issues is explored below."
      ]
    },
    {
      "cell_type": "code",
      "metadata": {
        "id": "tOfe-yVNf_Nu",
        "colab": {
          "base_uri": "https://localhost:8080/"
        },
        "outputId": "fa2e8665-316e-4552-e142-e2c123368c05"
      },
      "source": [
        "#counting the number of null values \n",
        "print(\"Age null values:\", titanic['Age'].isnull().sum())\n",
        "print(\"Cabin null values:\", titanic['Cabin'].isnull().sum())\n",
        "print(\"Embarked null values:\", titanic['Embarked'].isnull().sum())\n"
      ],
      "execution_count": 6,
      "outputs": [
        {
          "output_type": "stream",
          "text": [
            "Age null values: 177\n",
            "Cabin null values: 687\n",
            "Embarked null values: 2\n"
          ],
          "name": "stdout"
        }
      ]
    },
    {
      "cell_type": "markdown",
      "metadata": {
        "id": "pC3J0I67xVE6"
      },
      "source": [
        "Considering the Cabin variable is missing the majority of its values, it should be removed"
      ]
    },
    {
      "cell_type": "code",
      "metadata": {
        "id": "Oe9RDQKAf_Sl",
        "colab": {
          "base_uri": "https://localhost:8080/",
          "height": 419
        },
        "outputId": "0edd2aa0-328d-4289-8148-360780e1c802"
      },
      "source": [
        "#delete the cabin column\n",
        "del titanic[\"Cabin\"]\n",
        "titanic"
      ],
      "execution_count": 7,
      "outputs": [
        {
          "output_type": "execute_result",
          "data": {
            "text/html": [
              "<div>\n",
              "<style scoped>\n",
              "    .dataframe tbody tr th:only-of-type {\n",
              "        vertical-align: middle;\n",
              "    }\n",
              "\n",
              "    .dataframe tbody tr th {\n",
              "        vertical-align: top;\n",
              "    }\n",
              "\n",
              "    .dataframe thead th {\n",
              "        text-align: right;\n",
              "    }\n",
              "</style>\n",
              "<table border=\"1\" class=\"dataframe\">\n",
              "  <thead>\n",
              "    <tr style=\"text-align: right;\">\n",
              "      <th></th>\n",
              "      <th>PassengerId</th>\n",
              "      <th>Survived</th>\n",
              "      <th>Pclass</th>\n",
              "      <th>Name</th>\n",
              "      <th>Sex</th>\n",
              "      <th>Age</th>\n",
              "      <th>SibSp</th>\n",
              "      <th>Parch</th>\n",
              "      <th>Ticket</th>\n",
              "      <th>Fare</th>\n",
              "      <th>Embarked</th>\n",
              "    </tr>\n",
              "  </thead>\n",
              "  <tbody>\n",
              "    <tr>\n",
              "      <th>0</th>\n",
              "      <td>1</td>\n",
              "      <td>0</td>\n",
              "      <td>3</td>\n",
              "      <td>Braund, Mr. Owen Harris</td>\n",
              "      <td>male</td>\n",
              "      <td>22.0</td>\n",
              "      <td>1</td>\n",
              "      <td>0</td>\n",
              "      <td>A/5 21171</td>\n",
              "      <td>7.2500</td>\n",
              "      <td>S</td>\n",
              "    </tr>\n",
              "    <tr>\n",
              "      <th>1</th>\n",
              "      <td>2</td>\n",
              "      <td>1</td>\n",
              "      <td>1</td>\n",
              "      <td>Cumings, Mrs. John Bradley (Florence Briggs Th...</td>\n",
              "      <td>female</td>\n",
              "      <td>38.0</td>\n",
              "      <td>1</td>\n",
              "      <td>0</td>\n",
              "      <td>PC 17599</td>\n",
              "      <td>71.2833</td>\n",
              "      <td>C</td>\n",
              "    </tr>\n",
              "    <tr>\n",
              "      <th>2</th>\n",
              "      <td>3</td>\n",
              "      <td>1</td>\n",
              "      <td>3</td>\n",
              "      <td>Heikkinen, Miss. Laina</td>\n",
              "      <td>female</td>\n",
              "      <td>26.0</td>\n",
              "      <td>0</td>\n",
              "      <td>0</td>\n",
              "      <td>STON/O2. 3101282</td>\n",
              "      <td>7.9250</td>\n",
              "      <td>S</td>\n",
              "    </tr>\n",
              "    <tr>\n",
              "      <th>3</th>\n",
              "      <td>4</td>\n",
              "      <td>1</td>\n",
              "      <td>1</td>\n",
              "      <td>Futrelle, Mrs. Jacques Heath (Lily May Peel)</td>\n",
              "      <td>female</td>\n",
              "      <td>35.0</td>\n",
              "      <td>1</td>\n",
              "      <td>0</td>\n",
              "      <td>113803</td>\n",
              "      <td>53.1000</td>\n",
              "      <td>S</td>\n",
              "    </tr>\n",
              "    <tr>\n",
              "      <th>4</th>\n",
              "      <td>5</td>\n",
              "      <td>0</td>\n",
              "      <td>3</td>\n",
              "      <td>Allen, Mr. William Henry</td>\n",
              "      <td>male</td>\n",
              "      <td>35.0</td>\n",
              "      <td>0</td>\n",
              "      <td>0</td>\n",
              "      <td>373450</td>\n",
              "      <td>8.0500</td>\n",
              "      <td>S</td>\n",
              "    </tr>\n",
              "    <tr>\n",
              "      <th>...</th>\n",
              "      <td>...</td>\n",
              "      <td>...</td>\n",
              "      <td>...</td>\n",
              "      <td>...</td>\n",
              "      <td>...</td>\n",
              "      <td>...</td>\n",
              "      <td>...</td>\n",
              "      <td>...</td>\n",
              "      <td>...</td>\n",
              "      <td>...</td>\n",
              "      <td>...</td>\n",
              "    </tr>\n",
              "    <tr>\n",
              "      <th>886</th>\n",
              "      <td>887</td>\n",
              "      <td>0</td>\n",
              "      <td>2</td>\n",
              "      <td>Montvila, Rev. Juozas</td>\n",
              "      <td>male</td>\n",
              "      <td>27.0</td>\n",
              "      <td>0</td>\n",
              "      <td>0</td>\n",
              "      <td>211536</td>\n",
              "      <td>13.0000</td>\n",
              "      <td>S</td>\n",
              "    </tr>\n",
              "    <tr>\n",
              "      <th>887</th>\n",
              "      <td>888</td>\n",
              "      <td>1</td>\n",
              "      <td>1</td>\n",
              "      <td>Graham, Miss. Margaret Edith</td>\n",
              "      <td>female</td>\n",
              "      <td>19.0</td>\n",
              "      <td>0</td>\n",
              "      <td>0</td>\n",
              "      <td>112053</td>\n",
              "      <td>30.0000</td>\n",
              "      <td>S</td>\n",
              "    </tr>\n",
              "    <tr>\n",
              "      <th>888</th>\n",
              "      <td>889</td>\n",
              "      <td>0</td>\n",
              "      <td>3</td>\n",
              "      <td>Johnston, Miss. Catherine Helen \"Carrie\"</td>\n",
              "      <td>female</td>\n",
              "      <td>NaN</td>\n",
              "      <td>1</td>\n",
              "      <td>2</td>\n",
              "      <td>W./C. 6607</td>\n",
              "      <td>23.4500</td>\n",
              "      <td>S</td>\n",
              "    </tr>\n",
              "    <tr>\n",
              "      <th>889</th>\n",
              "      <td>890</td>\n",
              "      <td>1</td>\n",
              "      <td>1</td>\n",
              "      <td>Behr, Mr. Karl Howell</td>\n",
              "      <td>male</td>\n",
              "      <td>26.0</td>\n",
              "      <td>0</td>\n",
              "      <td>0</td>\n",
              "      <td>111369</td>\n",
              "      <td>30.0000</td>\n",
              "      <td>C</td>\n",
              "    </tr>\n",
              "    <tr>\n",
              "      <th>890</th>\n",
              "      <td>891</td>\n",
              "      <td>0</td>\n",
              "      <td>3</td>\n",
              "      <td>Dooley, Mr. Patrick</td>\n",
              "      <td>male</td>\n",
              "      <td>32.0</td>\n",
              "      <td>0</td>\n",
              "      <td>0</td>\n",
              "      <td>370376</td>\n",
              "      <td>7.7500</td>\n",
              "      <td>Q</td>\n",
              "    </tr>\n",
              "  </tbody>\n",
              "</table>\n",
              "<p>891 rows × 11 columns</p>\n",
              "</div>"
            ],
            "text/plain": [
              "     PassengerId  Survived  Pclass  ...            Ticket     Fare  Embarked\n",
              "0              1         0       3  ...         A/5 21171   7.2500         S\n",
              "1              2         1       1  ...          PC 17599  71.2833         C\n",
              "2              3         1       3  ...  STON/O2. 3101282   7.9250         S\n",
              "3              4         1       1  ...            113803  53.1000         S\n",
              "4              5         0       3  ...            373450   8.0500         S\n",
              "..           ...       ...     ...  ...               ...      ...       ...\n",
              "886          887         0       2  ...            211536  13.0000         S\n",
              "887          888         1       1  ...            112053  30.0000         S\n",
              "888          889         0       3  ...        W./C. 6607  23.4500         S\n",
              "889          890         1       1  ...            111369  30.0000         C\n",
              "890          891         0       3  ...            370376   7.7500         Q\n",
              "\n",
              "[891 rows x 11 columns]"
            ]
          },
          "metadata": {
            "tags": []
          },
          "execution_count": 7
        }
      ]
    },
    {
      "cell_type": "markdown",
      "metadata": {
        "id": "n5J3QpJ6ysY1"
      },
      "source": [
        "Considering how many rows there are and only 2 Embarked values missing, it should not affect the statistics much. However, to make the data for Age useful all null values should be filled.\n",
        "\n",
        "I will be filling the missing age values with the average age of all passengers. Since there are so few missing port values, I will be leaving them Null\n"
      ]
    },
    {
      "cell_type": "code",
      "metadata": {
        "colab": {
          "base_uri": "https://localhost:8080/",
          "height": 419
        },
        "id": "zxXg7lTxMfIz",
        "outputId": "1723353d-bf4b-4982-e89f-11f36d9d2aa5"
      },
      "source": [
        "#fill missing Embarked values with 'N' # no utilizing this but leaving it as an option \n",
        "# titanic1 = titanic.Embarked.fillna('N')\n",
        "# titanic.Embarked = titanic1\n",
        "\n",
        "#calculate mean age\n",
        "meanAge = round(titanic['Age'].mean(), 2)\n",
        "\n",
        "#fill missing age values with mean age\n",
        "titanic2 = titanic.Age.fillna(meanAge)\n",
        "titanic.Age = titanic2\n",
        "\n",
        "titanic"
      ],
      "execution_count": 8,
      "outputs": [
        {
          "output_type": "execute_result",
          "data": {
            "text/html": [
              "<div>\n",
              "<style scoped>\n",
              "    .dataframe tbody tr th:only-of-type {\n",
              "        vertical-align: middle;\n",
              "    }\n",
              "\n",
              "    .dataframe tbody tr th {\n",
              "        vertical-align: top;\n",
              "    }\n",
              "\n",
              "    .dataframe thead th {\n",
              "        text-align: right;\n",
              "    }\n",
              "</style>\n",
              "<table border=\"1\" class=\"dataframe\">\n",
              "  <thead>\n",
              "    <tr style=\"text-align: right;\">\n",
              "      <th></th>\n",
              "      <th>PassengerId</th>\n",
              "      <th>Survived</th>\n",
              "      <th>Pclass</th>\n",
              "      <th>Name</th>\n",
              "      <th>Sex</th>\n",
              "      <th>Age</th>\n",
              "      <th>SibSp</th>\n",
              "      <th>Parch</th>\n",
              "      <th>Ticket</th>\n",
              "      <th>Fare</th>\n",
              "      <th>Embarked</th>\n",
              "    </tr>\n",
              "  </thead>\n",
              "  <tbody>\n",
              "    <tr>\n",
              "      <th>0</th>\n",
              "      <td>1</td>\n",
              "      <td>0</td>\n",
              "      <td>3</td>\n",
              "      <td>Braund, Mr. Owen Harris</td>\n",
              "      <td>male</td>\n",
              "      <td>22.0</td>\n",
              "      <td>1</td>\n",
              "      <td>0</td>\n",
              "      <td>A/5 21171</td>\n",
              "      <td>7.2500</td>\n",
              "      <td>S</td>\n",
              "    </tr>\n",
              "    <tr>\n",
              "      <th>1</th>\n",
              "      <td>2</td>\n",
              "      <td>1</td>\n",
              "      <td>1</td>\n",
              "      <td>Cumings, Mrs. John Bradley (Florence Briggs Th...</td>\n",
              "      <td>female</td>\n",
              "      <td>38.0</td>\n",
              "      <td>1</td>\n",
              "      <td>0</td>\n",
              "      <td>PC 17599</td>\n",
              "      <td>71.2833</td>\n",
              "      <td>C</td>\n",
              "    </tr>\n",
              "    <tr>\n",
              "      <th>2</th>\n",
              "      <td>3</td>\n",
              "      <td>1</td>\n",
              "      <td>3</td>\n",
              "      <td>Heikkinen, Miss. Laina</td>\n",
              "      <td>female</td>\n",
              "      <td>26.0</td>\n",
              "      <td>0</td>\n",
              "      <td>0</td>\n",
              "      <td>STON/O2. 3101282</td>\n",
              "      <td>7.9250</td>\n",
              "      <td>S</td>\n",
              "    </tr>\n",
              "    <tr>\n",
              "      <th>3</th>\n",
              "      <td>4</td>\n",
              "      <td>1</td>\n",
              "      <td>1</td>\n",
              "      <td>Futrelle, Mrs. Jacques Heath (Lily May Peel)</td>\n",
              "      <td>female</td>\n",
              "      <td>35.0</td>\n",
              "      <td>1</td>\n",
              "      <td>0</td>\n",
              "      <td>113803</td>\n",
              "      <td>53.1000</td>\n",
              "      <td>S</td>\n",
              "    </tr>\n",
              "    <tr>\n",
              "      <th>4</th>\n",
              "      <td>5</td>\n",
              "      <td>0</td>\n",
              "      <td>3</td>\n",
              "      <td>Allen, Mr. William Henry</td>\n",
              "      <td>male</td>\n",
              "      <td>35.0</td>\n",
              "      <td>0</td>\n",
              "      <td>0</td>\n",
              "      <td>373450</td>\n",
              "      <td>8.0500</td>\n",
              "      <td>S</td>\n",
              "    </tr>\n",
              "    <tr>\n",
              "      <th>...</th>\n",
              "      <td>...</td>\n",
              "      <td>...</td>\n",
              "      <td>...</td>\n",
              "      <td>...</td>\n",
              "      <td>...</td>\n",
              "      <td>...</td>\n",
              "      <td>...</td>\n",
              "      <td>...</td>\n",
              "      <td>...</td>\n",
              "      <td>...</td>\n",
              "      <td>...</td>\n",
              "    </tr>\n",
              "    <tr>\n",
              "      <th>886</th>\n",
              "      <td>887</td>\n",
              "      <td>0</td>\n",
              "      <td>2</td>\n",
              "      <td>Montvila, Rev. Juozas</td>\n",
              "      <td>male</td>\n",
              "      <td>27.0</td>\n",
              "      <td>0</td>\n",
              "      <td>0</td>\n",
              "      <td>211536</td>\n",
              "      <td>13.0000</td>\n",
              "      <td>S</td>\n",
              "    </tr>\n",
              "    <tr>\n",
              "      <th>887</th>\n",
              "      <td>888</td>\n",
              "      <td>1</td>\n",
              "      <td>1</td>\n",
              "      <td>Graham, Miss. Margaret Edith</td>\n",
              "      <td>female</td>\n",
              "      <td>19.0</td>\n",
              "      <td>0</td>\n",
              "      <td>0</td>\n",
              "      <td>112053</td>\n",
              "      <td>30.0000</td>\n",
              "      <td>S</td>\n",
              "    </tr>\n",
              "    <tr>\n",
              "      <th>888</th>\n",
              "      <td>889</td>\n",
              "      <td>0</td>\n",
              "      <td>3</td>\n",
              "      <td>Johnston, Miss. Catherine Helen \"Carrie\"</td>\n",
              "      <td>female</td>\n",
              "      <td>29.7</td>\n",
              "      <td>1</td>\n",
              "      <td>2</td>\n",
              "      <td>W./C. 6607</td>\n",
              "      <td>23.4500</td>\n",
              "      <td>S</td>\n",
              "    </tr>\n",
              "    <tr>\n",
              "      <th>889</th>\n",
              "      <td>890</td>\n",
              "      <td>1</td>\n",
              "      <td>1</td>\n",
              "      <td>Behr, Mr. Karl Howell</td>\n",
              "      <td>male</td>\n",
              "      <td>26.0</td>\n",
              "      <td>0</td>\n",
              "      <td>0</td>\n",
              "      <td>111369</td>\n",
              "      <td>30.0000</td>\n",
              "      <td>C</td>\n",
              "    </tr>\n",
              "    <tr>\n",
              "      <th>890</th>\n",
              "      <td>891</td>\n",
              "      <td>0</td>\n",
              "      <td>3</td>\n",
              "      <td>Dooley, Mr. Patrick</td>\n",
              "      <td>male</td>\n",
              "      <td>32.0</td>\n",
              "      <td>0</td>\n",
              "      <td>0</td>\n",
              "      <td>370376</td>\n",
              "      <td>7.7500</td>\n",
              "      <td>Q</td>\n",
              "    </tr>\n",
              "  </tbody>\n",
              "</table>\n",
              "<p>891 rows × 11 columns</p>\n",
              "</div>"
            ],
            "text/plain": [
              "     PassengerId  Survived  Pclass  ...            Ticket     Fare  Embarked\n",
              "0              1         0       3  ...         A/5 21171   7.2500         S\n",
              "1              2         1       1  ...          PC 17599  71.2833         C\n",
              "2              3         1       3  ...  STON/O2. 3101282   7.9250         S\n",
              "3              4         1       1  ...            113803  53.1000         S\n",
              "4              5         0       3  ...            373450   8.0500         S\n",
              "..           ...       ...     ...  ...               ...      ...       ...\n",
              "886          887         0       2  ...            211536  13.0000         S\n",
              "887          888         1       1  ...            112053  30.0000         S\n",
              "888          889         0       3  ...        W./C. 6607  23.4500         S\n",
              "889          890         1       1  ...            111369  30.0000         C\n",
              "890          891         0       3  ...            370376   7.7500         Q\n",
              "\n",
              "[891 rows x 11 columns]"
            ]
          },
          "metadata": {
            "tags": []
          },
          "execution_count": 8
        }
      ]
    },
    {
      "cell_type": "markdown",
      "metadata": {
        "id": "5rPgQTCO5Ext"
      },
      "source": [
        "Considering the Ticket column doesnt provide much useful or relevent data, I will remove it"
      ]
    },
    {
      "cell_type": "code",
      "metadata": {
        "colab": {
          "base_uri": "https://localhost:8080/",
          "height": 419
        },
        "id": "6bderHAE5Lus",
        "outputId": "b94082cf-9507-48f4-8047-bcb23561c41d"
      },
      "source": [
        "#delete the ticket column\n",
        "del titanic[\"Ticket\"]\n",
        "titanic"
      ],
      "execution_count": 9,
      "outputs": [
        {
          "output_type": "execute_result",
          "data": {
            "text/html": [
              "<div>\n",
              "<style scoped>\n",
              "    .dataframe tbody tr th:only-of-type {\n",
              "        vertical-align: middle;\n",
              "    }\n",
              "\n",
              "    .dataframe tbody tr th {\n",
              "        vertical-align: top;\n",
              "    }\n",
              "\n",
              "    .dataframe thead th {\n",
              "        text-align: right;\n",
              "    }\n",
              "</style>\n",
              "<table border=\"1\" class=\"dataframe\">\n",
              "  <thead>\n",
              "    <tr style=\"text-align: right;\">\n",
              "      <th></th>\n",
              "      <th>PassengerId</th>\n",
              "      <th>Survived</th>\n",
              "      <th>Pclass</th>\n",
              "      <th>Name</th>\n",
              "      <th>Sex</th>\n",
              "      <th>Age</th>\n",
              "      <th>SibSp</th>\n",
              "      <th>Parch</th>\n",
              "      <th>Fare</th>\n",
              "      <th>Embarked</th>\n",
              "    </tr>\n",
              "  </thead>\n",
              "  <tbody>\n",
              "    <tr>\n",
              "      <th>0</th>\n",
              "      <td>1</td>\n",
              "      <td>0</td>\n",
              "      <td>3</td>\n",
              "      <td>Braund, Mr. Owen Harris</td>\n",
              "      <td>male</td>\n",
              "      <td>22.0</td>\n",
              "      <td>1</td>\n",
              "      <td>0</td>\n",
              "      <td>7.2500</td>\n",
              "      <td>S</td>\n",
              "    </tr>\n",
              "    <tr>\n",
              "      <th>1</th>\n",
              "      <td>2</td>\n",
              "      <td>1</td>\n",
              "      <td>1</td>\n",
              "      <td>Cumings, Mrs. John Bradley (Florence Briggs Th...</td>\n",
              "      <td>female</td>\n",
              "      <td>38.0</td>\n",
              "      <td>1</td>\n",
              "      <td>0</td>\n",
              "      <td>71.2833</td>\n",
              "      <td>C</td>\n",
              "    </tr>\n",
              "    <tr>\n",
              "      <th>2</th>\n",
              "      <td>3</td>\n",
              "      <td>1</td>\n",
              "      <td>3</td>\n",
              "      <td>Heikkinen, Miss. Laina</td>\n",
              "      <td>female</td>\n",
              "      <td>26.0</td>\n",
              "      <td>0</td>\n",
              "      <td>0</td>\n",
              "      <td>7.9250</td>\n",
              "      <td>S</td>\n",
              "    </tr>\n",
              "    <tr>\n",
              "      <th>3</th>\n",
              "      <td>4</td>\n",
              "      <td>1</td>\n",
              "      <td>1</td>\n",
              "      <td>Futrelle, Mrs. Jacques Heath (Lily May Peel)</td>\n",
              "      <td>female</td>\n",
              "      <td>35.0</td>\n",
              "      <td>1</td>\n",
              "      <td>0</td>\n",
              "      <td>53.1000</td>\n",
              "      <td>S</td>\n",
              "    </tr>\n",
              "    <tr>\n",
              "      <th>4</th>\n",
              "      <td>5</td>\n",
              "      <td>0</td>\n",
              "      <td>3</td>\n",
              "      <td>Allen, Mr. William Henry</td>\n",
              "      <td>male</td>\n",
              "      <td>35.0</td>\n",
              "      <td>0</td>\n",
              "      <td>0</td>\n",
              "      <td>8.0500</td>\n",
              "      <td>S</td>\n",
              "    </tr>\n",
              "    <tr>\n",
              "      <th>...</th>\n",
              "      <td>...</td>\n",
              "      <td>...</td>\n",
              "      <td>...</td>\n",
              "      <td>...</td>\n",
              "      <td>...</td>\n",
              "      <td>...</td>\n",
              "      <td>...</td>\n",
              "      <td>...</td>\n",
              "      <td>...</td>\n",
              "      <td>...</td>\n",
              "    </tr>\n",
              "    <tr>\n",
              "      <th>886</th>\n",
              "      <td>887</td>\n",
              "      <td>0</td>\n",
              "      <td>2</td>\n",
              "      <td>Montvila, Rev. Juozas</td>\n",
              "      <td>male</td>\n",
              "      <td>27.0</td>\n",
              "      <td>0</td>\n",
              "      <td>0</td>\n",
              "      <td>13.0000</td>\n",
              "      <td>S</td>\n",
              "    </tr>\n",
              "    <tr>\n",
              "      <th>887</th>\n",
              "      <td>888</td>\n",
              "      <td>1</td>\n",
              "      <td>1</td>\n",
              "      <td>Graham, Miss. Margaret Edith</td>\n",
              "      <td>female</td>\n",
              "      <td>19.0</td>\n",
              "      <td>0</td>\n",
              "      <td>0</td>\n",
              "      <td>30.0000</td>\n",
              "      <td>S</td>\n",
              "    </tr>\n",
              "    <tr>\n",
              "      <th>888</th>\n",
              "      <td>889</td>\n",
              "      <td>0</td>\n",
              "      <td>3</td>\n",
              "      <td>Johnston, Miss. Catherine Helen \"Carrie\"</td>\n",
              "      <td>female</td>\n",
              "      <td>29.7</td>\n",
              "      <td>1</td>\n",
              "      <td>2</td>\n",
              "      <td>23.4500</td>\n",
              "      <td>S</td>\n",
              "    </tr>\n",
              "    <tr>\n",
              "      <th>889</th>\n",
              "      <td>890</td>\n",
              "      <td>1</td>\n",
              "      <td>1</td>\n",
              "      <td>Behr, Mr. Karl Howell</td>\n",
              "      <td>male</td>\n",
              "      <td>26.0</td>\n",
              "      <td>0</td>\n",
              "      <td>0</td>\n",
              "      <td>30.0000</td>\n",
              "      <td>C</td>\n",
              "    </tr>\n",
              "    <tr>\n",
              "      <th>890</th>\n",
              "      <td>891</td>\n",
              "      <td>0</td>\n",
              "      <td>3</td>\n",
              "      <td>Dooley, Mr. Patrick</td>\n",
              "      <td>male</td>\n",
              "      <td>32.0</td>\n",
              "      <td>0</td>\n",
              "      <td>0</td>\n",
              "      <td>7.7500</td>\n",
              "      <td>Q</td>\n",
              "    </tr>\n",
              "  </tbody>\n",
              "</table>\n",
              "<p>891 rows × 10 columns</p>\n",
              "</div>"
            ],
            "text/plain": [
              "     PassengerId  Survived  Pclass  ... Parch     Fare  Embarked\n",
              "0              1         0       3  ...     0   7.2500         S\n",
              "1              2         1       1  ...     0  71.2833         C\n",
              "2              3         1       3  ...     0   7.9250         S\n",
              "3              4         1       1  ...     0  53.1000         S\n",
              "4              5         0       3  ...     0   8.0500         S\n",
              "..           ...       ...     ...  ...   ...      ...       ...\n",
              "886          887         0       2  ...     0  13.0000         S\n",
              "887          888         1       1  ...     0  30.0000         S\n",
              "888          889         0       3  ...     2  23.4500         S\n",
              "889          890         1       1  ...     0  30.0000         C\n",
              "890          891         0       3  ...     0   7.7500         Q\n",
              "\n",
              "[891 rows x 10 columns]"
            ]
          },
          "metadata": {
            "tags": []
          },
          "execution_count": 9
        }
      ]
    },
    {
      "cell_type": "code",
      "metadata": {
        "colab": {
          "base_uri": "https://localhost:8080/"
        },
        "id": "PxRSEJ1kfn7W",
        "outputId": "ec3c05ec-65c3-4cb7-af92-5b3ac57f8ed4"
      },
      "source": [
        "titanic.count()"
      ],
      "execution_count": 10,
      "outputs": [
        {
          "output_type": "execute_result",
          "data": {
            "text/plain": [
              "PassengerId    891\n",
              "Survived       891\n",
              "Pclass         891\n",
              "Name           891\n",
              "Sex            891\n",
              "Age            891\n",
              "SibSp          891\n",
              "Parch          891\n",
              "Fare           891\n",
              "Embarked       889\n",
              "dtype: int64"
            ]
          },
          "metadata": {
            "tags": []
          },
          "execution_count": 10
        }
      ]
    },
    {
      "cell_type": "markdown",
      "metadata": {
        "id": "f0sfCalg5Uhv"
      },
      "source": [
        "The data is now ready for analysis!"
      ]
    },
    {
      "cell_type": "markdown",
      "metadata": {
        "id": "inivYc9TgeCO"
      },
      "source": [
        "## Describe the general populaiton on the Titanic\n"
      ]
    },
    {
      "cell_type": "code",
      "metadata": {
        "colab": {
          "base_uri": "https://localhost:8080/",
          "height": 297
        },
        "id": "Kmtlq19MNHp2",
        "outputId": "711a0b81-0b3f-43bf-c23e-f651ccce0a8d"
      },
      "source": [
        "#summary statistics\n",
        "titanic.describe()"
      ],
      "execution_count": 11,
      "outputs": [
        {
          "output_type": "execute_result",
          "data": {
            "text/html": [
              "<div>\n",
              "<style scoped>\n",
              "    .dataframe tbody tr th:only-of-type {\n",
              "        vertical-align: middle;\n",
              "    }\n",
              "\n",
              "    .dataframe tbody tr th {\n",
              "        vertical-align: top;\n",
              "    }\n",
              "\n",
              "    .dataframe thead th {\n",
              "        text-align: right;\n",
              "    }\n",
              "</style>\n",
              "<table border=\"1\" class=\"dataframe\">\n",
              "  <thead>\n",
              "    <tr style=\"text-align: right;\">\n",
              "      <th></th>\n",
              "      <th>PassengerId</th>\n",
              "      <th>Survived</th>\n",
              "      <th>Pclass</th>\n",
              "      <th>Age</th>\n",
              "      <th>SibSp</th>\n",
              "      <th>Parch</th>\n",
              "      <th>Fare</th>\n",
              "    </tr>\n",
              "  </thead>\n",
              "  <tbody>\n",
              "    <tr>\n",
              "      <th>count</th>\n",
              "      <td>891.000000</td>\n",
              "      <td>891.000000</td>\n",
              "      <td>891.000000</td>\n",
              "      <td>891.000000</td>\n",
              "      <td>891.000000</td>\n",
              "      <td>891.000000</td>\n",
              "      <td>891.000000</td>\n",
              "    </tr>\n",
              "    <tr>\n",
              "      <th>mean</th>\n",
              "      <td>446.000000</td>\n",
              "      <td>0.383838</td>\n",
              "      <td>2.308642</td>\n",
              "      <td>29.699293</td>\n",
              "      <td>0.523008</td>\n",
              "      <td>0.381594</td>\n",
              "      <td>32.204208</td>\n",
              "    </tr>\n",
              "    <tr>\n",
              "      <th>std</th>\n",
              "      <td>257.353842</td>\n",
              "      <td>0.486592</td>\n",
              "      <td>0.836071</td>\n",
              "      <td>13.002015</td>\n",
              "      <td>1.102743</td>\n",
              "      <td>0.806057</td>\n",
              "      <td>49.693429</td>\n",
              "    </tr>\n",
              "    <tr>\n",
              "      <th>min</th>\n",
              "      <td>1.000000</td>\n",
              "      <td>0.000000</td>\n",
              "      <td>1.000000</td>\n",
              "      <td>0.420000</td>\n",
              "      <td>0.000000</td>\n",
              "      <td>0.000000</td>\n",
              "      <td>0.000000</td>\n",
              "    </tr>\n",
              "    <tr>\n",
              "      <th>25%</th>\n",
              "      <td>223.500000</td>\n",
              "      <td>0.000000</td>\n",
              "      <td>2.000000</td>\n",
              "      <td>22.000000</td>\n",
              "      <td>0.000000</td>\n",
              "      <td>0.000000</td>\n",
              "      <td>7.910400</td>\n",
              "    </tr>\n",
              "    <tr>\n",
              "      <th>50%</th>\n",
              "      <td>446.000000</td>\n",
              "      <td>0.000000</td>\n",
              "      <td>3.000000</td>\n",
              "      <td>29.700000</td>\n",
              "      <td>0.000000</td>\n",
              "      <td>0.000000</td>\n",
              "      <td>14.454200</td>\n",
              "    </tr>\n",
              "    <tr>\n",
              "      <th>75%</th>\n",
              "      <td>668.500000</td>\n",
              "      <td>1.000000</td>\n",
              "      <td>3.000000</td>\n",
              "      <td>35.000000</td>\n",
              "      <td>1.000000</td>\n",
              "      <td>0.000000</td>\n",
              "      <td>31.000000</td>\n",
              "    </tr>\n",
              "    <tr>\n",
              "      <th>max</th>\n",
              "      <td>891.000000</td>\n",
              "      <td>1.000000</td>\n",
              "      <td>3.000000</td>\n",
              "      <td>80.000000</td>\n",
              "      <td>8.000000</td>\n",
              "      <td>6.000000</td>\n",
              "      <td>512.329200</td>\n",
              "    </tr>\n",
              "  </tbody>\n",
              "</table>\n",
              "</div>"
            ],
            "text/plain": [
              "       PassengerId    Survived      Pclass  ...       SibSp       Parch        Fare\n",
              "count   891.000000  891.000000  891.000000  ...  891.000000  891.000000  891.000000\n",
              "mean    446.000000    0.383838    2.308642  ...    0.523008    0.381594   32.204208\n",
              "std     257.353842    0.486592    0.836071  ...    1.102743    0.806057   49.693429\n",
              "min       1.000000    0.000000    1.000000  ...    0.000000    0.000000    0.000000\n",
              "25%     223.500000    0.000000    2.000000  ...    0.000000    0.000000    7.910400\n",
              "50%     446.000000    0.000000    3.000000  ...    0.000000    0.000000   14.454200\n",
              "75%     668.500000    1.000000    3.000000  ...    1.000000    0.000000   31.000000\n",
              "max     891.000000    1.000000    3.000000  ...    8.000000    6.000000  512.329200\n",
              "\n",
              "[8 rows x 7 columns]"
            ]
          },
          "metadata": {
            "tags": []
          },
          "execution_count": 11
        }
      ]
    },
    {
      "cell_type": "markdown",
      "metadata": {
        "id": "cbyzyumnmPry"
      },
      "source": [
        "This shows data for 891 passangers. \n",
        "\n",
        "On average, 38% of the passangers survived. The average class of passanger with data collected is below middle class (>2) which indicates survival rates are skewed in the direction of lower class data. the average age was almost 30 years old and the average ticket cost was 32 Pounds.\n"
      ]
    },
    {
      "cell_type": "markdown",
      "metadata": {
        "id": "Mty0ucRbnHdI"
      },
      "source": [
        "## Describe each gender group\n"
      ]
    },
    {
      "cell_type": "markdown",
      "metadata": {
        "id": "-gvInC6qg4EJ"
      },
      "source": [
        "What was the gender divide in the population?"
      ]
    },
    {
      "cell_type": "code",
      "metadata": {
        "colab": {
          "base_uri": "https://localhost:8080/",
          "height": 349
        },
        "id": "kIut39FQg-hQ",
        "outputId": "76d457bc-ef8f-4646-cf18-65e3d761c98e"
      },
      "source": [
        "sex_count = titanic.groupby('Sex')['PassengerId'].count()\n",
        "print(sex_count, \"\\n\")\n",
        "\n",
        "#graph in pie chart \n",
        "plt.pie(sex_count, labels=['Female', 'Male'], autopct='%.1f%%', startangle=45, colors =['r','b'])\n",
        "plt.title('Population by Gender')\n",
        "plt.axis('equal')\n",
        "plt.show()"
      ],
      "execution_count": 12,
      "outputs": [
        {
          "output_type": "stream",
          "text": [
            "Sex\n",
            "female    314\n",
            "male      577\n",
            "Name: PassengerId, dtype: int64 \n",
            "\n"
          ],
          "name": "stdout"
        },
        {
          "output_type": "display_data",
          "data": {
            "image/png": "[encoded data removed]",
            "text/plain": [
              "<Figure size 432x288 with 1 Axes>"
            ]
          },
          "metadata": {
            "tags": []
          }
        }
      ]
    },
    {
      "cell_type": "markdown",
      "metadata": {
        "id": "54qw-qnJugbw"
      },
      "source": [
        "What was the average age within each gender?"
      ]
    },
    {
      "cell_type": "code",
      "metadata": {
        "colab": {
          "base_uri": "https://localhost:8080/"
        },
        "id": "mP_n70HDNo4O",
        "outputId": "6c92c1bd-ae12-4a73-884a-b33a76599cc0"
      },
      "source": [
        "#average\n",
        "print(\"Average age in each gender\\n\", titanic.groupby('Sex')['Age'].mean())\n",
        "\n",
        "#maximum age\n",
        "print(\"\\n Maximum age in each gender\\n\", titanic.groupby('Sex')['Age'].max())\n",
        "\n",
        "#minimum age\n",
        "print(\"\\n Minimum age in each gender\\n\", titanic.groupby('Sex')['Age'].min())"
      ],
      "execution_count": 13,
      "outputs": [
        {
          "output_type": "stream",
          "text": [
            "Average age in each gender\n",
            " Sex\n",
            "female    28.216879\n",
            "male      30.506014\n",
            "Name: Age, dtype: float64\n",
            "\n",
            " Maximum age in each gender\n",
            " Sex\n",
            "female    63.0\n",
            "male      80.0\n",
            "Name: Age, dtype: float64\n",
            "\n",
            " Minimum age in each gender\n",
            " Sex\n",
            "female    0.75\n",
            "male      0.42\n",
            "Name: Age, dtype: float64\n"
          ],
          "name": "stdout"
        }
      ]
    },
    {
      "cell_type": "markdown",
      "metadata": {
        "id": "U4lzC7m9jDY-"
      },
      "source": [
        "Survival rates within each gender"
      ]
    },
    {
      "cell_type": "code",
      "metadata": {
        "colab": {
          "base_uri": "https://localhost:8080/"
        },
        "id": "L3aI_ustjCEP",
        "outputId": "6aec32fc-9a92-466b-8ceb-30971324e2a0"
      },
      "source": [
        "#counting survived passengers in each gender\n",
        "sex_survived = titanic.groupby('Sex')['Survived'].sum()\n",
        "print(sex_survived)"
      ],
      "execution_count": 14,
      "outputs": [
        {
          "output_type": "stream",
          "text": [
            "Sex\n",
            "female    233\n",
            "male      109\n",
            "Name: Survived, dtype: int64\n"
          ],
          "name": "stdout"
        }
      ]
    },
    {
      "cell_type": "code",
      "metadata": {
        "colab": {
          "base_uri": "https://localhost:8080/",
          "height": 511
        },
        "id": "vjQdoNs7jaEm",
        "outputId": "870287e9-5467-49c1-964f-ec8622ddf1d5"
      },
      "source": [
        "#list of [survived, died] in each gender\n",
        "f_survived = [sex_survived[0], (sex_count[0]-sex_survived[0])]\n",
        "m_survived = [sex_survived[1], sex_count[1]-sex_survived[1]]\n",
        "\n",
        "#graph in pie chart \n",
        "plt.pie(f_survived, labels=['Survived', 'Died'], autopct='%.1f%%', colors =['g','r'])\n",
        "plt.title('Survival of Females')\n",
        "plt.axis('equal')\n",
        "plt.show()\n",
        "\n",
        "plt.pie(m_survived, labels=['Survived', 'Died'], autopct='%.1f%%', colors =['g','r'])\n",
        "plt.title('Survival of Males')\n",
        "plt.axis('equal')\n",
        "plt.show()"
      ],
      "execution_count": 15,
      "outputs": [
        {
          "output_type": "display_data",
          "data": {
            "image/png": "[encoded data removed]",
            "text/plain": [
              "<Figure size 432x288 with 1 Axes>"
            ]
          },
          "metadata": {
            "tags": []
          }
        },
        {
          "output_type": "display_data",
          "data": {
            "image/png": "[encoded data removed]",
            "text/plain": [
              "<Figure size 432x288 with 1 Axes>"
            ]
          },
          "metadata": {
            "tags": []
          }
        }
      ]
    },
    {
      "cell_type": "markdown",
      "metadata": {
        "id": "TLl9HQZsq1XH"
      },
      "source": [
        "###How did males compare to females in survival rate for each class?"
      ]
    },
    {
      "cell_type": "code",
      "metadata": {
        "colab": {
          "base_uri": "https://localhost:8080/",
          "height": 467
        },
        "id": "CEPvefzjrDNk",
        "outputId": "d7bff4ad-5222-4050-bfe2-18c29d43c1c0"
      },
      "source": [
        "#count survived people b class and gender\n",
        "survived_gender = titanic.groupby(by=[\"Pclass\", \"Sex\"])[\"Survived\"].sum()\n",
        "\n",
        "print(survived_gender)\n",
        "print(\"\\n Number of survivors in each class, by gender:\")\n",
        "\n",
        "genders = [\"female\", \"male\"]\n",
        "\n",
        "#plot the gender comparison in each class\n",
        "myFig, ax = plt.subplots(1, 3, sharey=True, sharex=True, squeeze=False)\n",
        "\n",
        "myFig.text(0.5, 0.02, 'Gender', ha='center')\n",
        "myFig.text(0.04, 0.5, 'Survivors', va='center', rotation='vertical')\n",
        "\n",
        "ax[0, 0].bar(genders, survived_gender[:2], color ='r')\n",
        "ax[0, 1].bar(genders, survived_gender[2:4], color ='b')\n",
        "ax[0, 2].bar(genders, survived_gender[4:6], color = 'g')\n",
        "\n",
        "ax[0, 0].title.set_text('1st Class')\n",
        "ax[0, 1].title.set_text('2nd Class')\n",
        "ax[0, 2].title.set_text('3rd Class')\n",
        "\n",
        "plt.show()\n"
      ],
      "execution_count": 16,
      "outputs": [
        {
          "output_type": "stream",
          "text": [
            "Pclass  Sex   \n",
            "1       female    91\n",
            "        male      45\n",
            "2       female    70\n",
            "        male      17\n",
            "3       female    72\n",
            "        male      47\n",
            "Name: Survived, dtype: int64\n",
            "\n",
            " Number of survivors in each class, by gender:\n"
          ],
          "name": "stdout"
        },
        {
          "output_type": "display_data",
          "data": {
            "image/png": "[encoded data removed]",
            "text/plain": [
              "<Figure size 432x288 with 3 Axes>"
            ]
          },
          "metadata": {
            "tags": [],
            "needs_background": "light"
          }
        }
      ]
    },
    {
      "cell_type": "markdown",
      "metadata": {
        "id": "yPGqt7lco24g"
      },
      "source": [
        "This shows women survived at far greater rates than men, independent of socioeconomic group "
      ]
    },
    {
      "cell_type": "markdown",
      "metadata": {
        "id": "hTpGa8ZpNIT-"
      },
      "source": [
        "## What was the socioeconomic makeup of the passengers? What were the statistics assosiated with each group? "
      ]
    },
    {
      "cell_type": "markdown",
      "metadata": {
        "id": "BLznlBXAtuKC"
      },
      "source": [
        "###Is this data skewed? Does the rate of sales of each class of ticket match historical data?"
      ]
    },
    {
      "cell_type": "markdown",
      "metadata": {
        "id": "Hz0Jtt9P6Oos"
      },
      "source": [
        "Historically, 24% of passangers were first class, 21% were second class, and 55% were third class. "
      ]
    },
    {
      "cell_type": "code",
      "metadata": {
        "colab": {
          "base_uri": "https://localhost:8080/"
        },
        "id": "Fhje3LY547Nd",
        "outputId": "2d30a87d-10c9-4e3d-997c-c8f89965aaa4"
      },
      "source": [
        "class_count = titanic.groupby(by=[\"Pclass\"])[\"PassengerId\"].count()\n",
        "print(class_count / 891)"
      ],
      "execution_count": 17,
      "outputs": [
        {
          "output_type": "stream",
          "text": [
            "Pclass\n",
            "1    0.242424\n",
            "2    0.206510\n",
            "3    0.551066\n",
            "Name: PassengerId, dtype: float64\n"
          ],
          "name": "stdout"
        }
      ]
    },
    {
      "cell_type": "markdown",
      "metadata": {
        "id": "BRb7eGeD66Ou"
      },
      "source": [
        "The percentages match! this data set is exactly representitive of the class makeup of historical data"
      ]
    },
    {
      "cell_type": "markdown",
      "metadata": {
        "id": "Nt0bdiYCvn9T"
      },
      "source": [
        "###Class survival"
      ]
    },
    {
      "cell_type": "markdown",
      "metadata": {
        "id": "ZWrS62zG4jI9"
      },
      "source": [
        "Historical data shows the survival rate for first class passengers was 44.68%, for second class 40.46%, for third class 36.32%. How does this compare to this data set?"
      ]
    },
    {
      "cell_type": "code",
      "metadata": {
        "colab": {
          "base_uri": "https://localhost:8080/"
        },
        "id": "hjEN2HkhMwko",
        "outputId": "ee5f9e5d-ef74-46a3-9cc9-e5958613b8bd"
      },
      "source": [
        "#number of total survived passengers in each Class\n",
        "survived_class = titanic.groupby('Pclass')['Survived'].sum()\n",
        "print(survived_class)\n",
        "\n",
        "#number of total passengers in each class\n",
        "population = titanic.groupby('Pclass')['PassengerId'].count()\n",
        "print(population)\n",
        "\n",
        "#percent of each socioeconomic group that survived \n",
        "print(\"\\nSurvival rates in each class (all ages and genders)\")\n",
        "print(survived_class/population * 100)\n"
      ],
      "execution_count": 18,
      "outputs": [
        {
          "output_type": "stream",
          "text": [
            "Pclass\n",
            "1    136\n",
            "2     87\n",
            "3    119\n",
            "Name: Survived, dtype: int64\n",
            "Pclass\n",
            "1    216\n",
            "2    184\n",
            "3    491\n",
            "Name: PassengerId, dtype: int64\n",
            "\n",
            "Survival rates in each class (all ages and genders)\n",
            "Pclass\n",
            "1    62.962963\n",
            "2    47.282609\n",
            "3    24.236253\n",
            "dtype: float64\n"
          ],
          "name": "stdout"
        }
      ]
    },
    {
      "cell_type": "markdown",
      "metadata": {
        "id": "wiaiqyefpWCV"
      },
      "source": [
        "This shows first class passangers survived at far better rates than those in lower classes. In comparison to historical data, first class is reported to have a better survival rate and third class a worse survival rate. "
      ]
    },
    {
      "cell_type": "markdown",
      "metadata": {
        "id": "kXGD9QZ50Wcz"
      },
      "source": [
        "### Class by Age "
      ]
    },
    {
      "cell_type": "markdown",
      "metadata": {
        "id": "ibsxLZFtpqPe"
      },
      "source": [
        "What was the average age of each class? "
      ]
    },
    {
      "cell_type": "code",
      "metadata": {
        "colab": {
          "base_uri": "https://localhost:8080/"
        },
        "id": "LyWCMdWBpTu9",
        "outputId": "281348ad-e3e9-4202-b3b8-16a0069af268"
      },
      "source": [
        "age_class_avg = titanic.groupby('Pclass')['Age'].mean()\n",
        "print(age_class_avg)"
      ],
      "execution_count": 19,
      "outputs": [
        {
          "output_type": "stream",
          "text": [
            "Pclass\n",
            "1    37.048241\n",
            "2    29.867011\n",
            "3    26.403503\n",
            "Name: Age, dtype: float64\n"
          ],
          "name": "stdout"
        }
      ]
    },
    {
      "cell_type": "code",
      "metadata": {
        "colab": {
          "base_uri": "https://localhost:8080/",
          "height": 544
        },
        "id": "p88HGMiYqQ68",
        "outputId": "3e548bf5-ca3d-46ce-907e-18ae145fc06c"
      },
      "source": [
        "#plot age distribution \n",
        "\n",
        "#first class age distribution\n",
        "class1 = titanic[titanic['Pclass'] == 1]\n",
        "age_class1 = class1.groupby('Age')['PassengerId'].count()\n",
        "\n",
        "#second class age distribution\n",
        "class2 = titanic[titanic['Pclass'] == 2]\n",
        "age_class2 = class2.groupby('Age')['PassengerId'].count()\n",
        "\n",
        "#third class age distribution\n",
        "class3 = titanic[titanic['Pclass'] == 3]\n",
        "age_class3 = class3.groupby('Age')['PassengerId'].count()\n",
        "\n",
        "#create plot\n",
        "myFig, myAxes = plt.subplots(1, 3, squeeze=False)\n",
        "#resize\n",
        "myFig.set_size_inches(15, 8)\n",
        "#Axes\n",
        "myFig.text(0.5, 0.02, 'Age', ha='center')\n",
        "myFig.text(0.04, 0.5, 'Number of Passengers', va='center', rotation='vertical')\n",
        "\n",
        "myAxes[0, 0].bar(class1['Age'].unique(), age_class1, color = 'r')\n",
        "myAxes[0, 1].bar(class2['Age'].unique(), age_class2, color = 'b')\n",
        "myAxes[0, 2].bar(class3['Age'].unique(), age_class3, color = 'g')\n",
        "\n",
        "myAxes[0, 0].title.set_text('1st Class')\n",
        "myAxes[0, 1].title.set_text('2nd Class')\n",
        "myAxes[0, 2].title.set_text('3rd Class')\n",
        "\n",
        "plt.show()"
      ],
      "execution_count": 20,
      "outputs": [
        {
          "output_type": "display_data",
          "data": {
            "image/png": "[encoded data removed]",
            "text/plain": [
              "<Figure size 1080x576 with 3 Axes>"
            ]
          },
          "metadata": {
            "tags": [],
            "needs_background": "light"
          }
        }
      ]
    },
    {
      "cell_type": "markdown",
      "metadata": {
        "id": "IpyfFtbd07BC"
      },
      "source": [
        "Which class had the highest amount of children?"
      ]
    },
    {
      "cell_type": "code",
      "metadata": {
        "colab": {
          "base_uri": "https://localhost:8080/"
        },
        "id": "t0cK6tw81IlI",
        "outputId": "5a5b8342-2423-46af-a9d6-ac227b5b8ec2"
      },
      "source": [
        "#find all the children in the dataset\n",
        "children = titanic[titanic[\"Age\"] < 18]\n",
        "\n",
        "#group the children by class \n",
        "children_class = children.groupby('Pclass')['PassengerId'].count()\n",
        "\n",
        "children_class"
      ],
      "execution_count": 21,
      "outputs": [
        {
          "output_type": "execute_result",
          "data": {
            "text/plain": [
              "Pclass\n",
              "1    12\n",
              "2    23\n",
              "3    78\n",
              "Name: PassengerId, dtype: int64"
            ]
          },
          "metadata": {
            "tags": []
          },
          "execution_count": 21
        }
      ]
    },
    {
      "cell_type": "code",
      "metadata": {
        "colab": {
          "base_uri": "https://localhost:8080/",
          "height": 266
        },
        "id": "9Rnf78KC3jVu",
        "outputId": "e0144949-d203-4cf9-cb54-f50772c2be8c"
      },
      "source": [
        "#graph in pie chart \n",
        "plt.pie(children_class, labels=[1, 2, 3], autopct='%.1f%%', startangle=45, colors = ['r', 'b', 'g'])\n",
        "plt.title('Children by Class')\n",
        "plt.axis('equal')\n",
        "plt.show()"
      ],
      "execution_count": 22,
      "outputs": [
        {
          "output_type": "display_data",
          "data": {
            "image/png": "[encoded data removed]",
            "text/plain": [
              "<Figure size 432x288 with 1 Axes>"
            ]
          },
          "metadata": {
            "tags": []
          }
        }
      ]
    },
    {
      "cell_type": "markdown",
      "metadata": {
        "id": "iaU65enE0_3h"
      },
      "source": [
        "Did children have a better survival rate dependent on class?"
      ]
    },
    {
      "cell_type": "code",
      "metadata": {
        "colab": {
          "base_uri": "https://localhost:8080/"
        },
        "id": "enSnN2V725VF",
        "outputId": "4fb7c725-46bd-4ef3-ff3b-63a4f6cd7f3a"
      },
      "source": [
        "children_class_lived = children.groupby('Pclass')['Survived'].sum()\n",
        "print(children_class_lived)\n",
        "\n",
        "print(children_class_lived / children_class)"
      ],
      "execution_count": 23,
      "outputs": [
        {
          "output_type": "stream",
          "text": [
            "Pclass\n",
            "1    11\n",
            "2    21\n",
            "3    29\n",
            "Name: Survived, dtype: int64\n",
            "Pclass\n",
            "1    0.916667\n",
            "2    0.913043\n",
            "3    0.371795\n",
            "dtype: float64\n"
          ],
          "name": "stdout"
        }
      ]
    },
    {
      "cell_type": "markdown",
      "metadata": {
        "id": "WhlQ9Af6p6zU"
      },
      "source": [
        "## How was ticket fare determined?"
      ]
    },
    {
      "cell_type": "markdown",
      "metadata": {
        "id": "JOeYeeZoqUHu"
      },
      "source": [
        "Was ticket price affected by age of passanger?\n"
      ]
    },
    {
      "cell_type": "code",
      "metadata": {
        "colab": {
          "base_uri": "https://localhost:8080/",
          "height": 295
        },
        "id": "vs_ONRQbqYMy",
        "outputId": "a7ad6c3a-14f5-492c-b3ec-46797e38e4ac"
      },
      "source": [
        "#get average ticket price per age \n",
        "fare_age = titanic.groupby('Age')['Fare'].mean()\n",
        "\n",
        "#find every age represented \n",
        "ages = titanic[\"Age\"].unique()\n",
        "\n",
        "plt.scatter(ages, fare_age, marker='o')\n",
        "\n",
        "plt.xlabel('Age')\n",
        "plt.ylabel('Ticket Fare')\n",
        "plt.title('Ticket Fare by Age')\n",
        "\n",
        "plt.show()"
      ],
      "execution_count": 24,
      "outputs": [
        {
          "output_type": "display_data",
          "data": {
            "image/png": "[encoded data removed]",
            "text/plain": [
              "<Figure size 432x288 with 1 Axes>"
            ]
          },
          "metadata": {
            "tags": [],
            "needs_background": "light"
          }
        }
      ]
    },
    {
      "cell_type": "markdown",
      "metadata": {
        "id": "w8S-yiM0sSx9"
      },
      "source": [
        "a horizontal trend to the data shows that ticket price was not dependent on age, more by class or ticket type "
      ]
    },
    {
      "cell_type": "markdown",
      "metadata": {
        "id": "hJFwJkq2H61W"
      },
      "source": [
        "Was ticket fare consistant within each class?\n"
      ]
    },
    {
      "cell_type": "code",
      "metadata": {
        "colab": {
          "base_uri": "https://localhost:8080/",
          "height": 295
        },
        "id": "dp66fgRwIAwb",
        "outputId": "6e36689a-db75-4347-a17a-6311fa90f739"
      },
      "source": [
        "#get average ticket price per class \n",
        "fare_class = titanic['Fare']\n",
        "\n",
        "#find every age represented \n",
        "classes = titanic[\"Pclass\"]\n",
        "\n",
        "plt.scatter(classes, fare_class, marker='o')\n",
        "\n",
        "plt.xlabel('Class')\n",
        "plt.ylabel('Ticket Fare')\n",
        "plt.title('Ticket Fare by Class')\n",
        "\n",
        "plt.show()"
      ],
      "execution_count": 25,
      "outputs": [
        {
          "output_type": "display_data",
          "data": {
            "image/png": "[encoded data removed]",
            "text/plain": [
              "<Figure size 432x288 with 1 Axes>"
            ]
          },
          "metadata": {
            "tags": [],
            "needs_background": "light"
          }
        }
      ]
    },
    {
      "cell_type": "code",
      "metadata": {
        "colab": {
          "base_uri": "https://localhost:8080/"
        },
        "id": "Hv4E0w-b2rax",
        "outputId": "11aa159b-510d-45a0-ef54-75cde3f06239"
      },
      "source": [
        "#calculate the average fare for each class ticket \n",
        "class_fare = titanic.groupby(by=[\"Pclass\"])[\"Fare\"].mean()\n",
        "print(class_fare)"
      ],
      "execution_count": 26,
      "outputs": [
        {
          "output_type": "stream",
          "text": [
            "Pclass\n",
            "1    84.154687\n",
            "2    20.662183\n",
            "3    13.675550\n",
            "Name: Fare, dtype: float64\n"
          ],
          "name": "stdout"
        }
      ]
    },
    {
      "cell_type": "markdown",
      "metadata": {
        "id": "8CUfZc5h7htc"
      },
      "source": [
        "### Was ticket fare affected by port?"
      ]
    },
    {
      "cell_type": "code",
      "metadata": {
        "colab": {
          "base_uri": "https://localhost:8080/"
        },
        "id": "Yfk0FXQqNZXq",
        "outputId": "9baebf4b-9719-408d-8ca5-ce0e36f68812"
      },
      "source": [
        "#calculate the average fare for each class ticket at each port \n",
        "port_fare = titanic.groupby(by=[\"Embarked\", \"Pclass\"])[\"Fare\"].mean()\n",
        "print(port_fare)"
      ],
      "execution_count": 27,
      "outputs": [
        {
          "output_type": "stream",
          "text": [
            "Embarked  Pclass\n",
            "C         1         104.718529\n",
            "          2          25.358335\n",
            "          3          11.214083\n",
            "Q         1          90.000000\n",
            "          2          12.350000\n",
            "          3          11.183393\n",
            "S         1          70.364862\n",
            "          2          20.327439\n",
            "          3          14.644083\n",
            "Name: Fare, dtype: float64\n"
          ],
          "name": "stdout"
        }
      ]
    },
    {
      "cell_type": "code",
      "metadata": {
        "colab": {
          "base_uri": "https://localhost:8080/",
          "height": 297
        },
        "id": "HjsXh_cFy3rc",
        "outputId": "97e9468e-d066-4982-a2fb-dcaa8bb5735c"
      },
      "source": [
        "pclass = [1, 2, 3]\n",
        "\n",
        "fig, ax = plt.subplots(1, 3, sharey=True, sharex=True, squeeze=False)\n",
        "\n",
        "fig.text(0.5, 0.02, 'Class', ha='center')\n",
        "fig.text(0.04, 0.5, 'Fare', va='center', rotation='vertical')\n",
        "\n",
        "ax[0, 0].bar(pclass, port_fare[:3], color =['r', 'b', 'g'])\n",
        "ax[0, 1].bar(pclass, port_fare[6:9], color =['r', 'b', 'g'])\n",
        "ax[0, 2].bar(pclass, port_fare[3:6], color =['r', 'b', 'g'])\n",
        "\n",
        "ax[0, 0].title.set_text('Cherbourg')\n",
        "ax[0, 1].title.set_text('Southampton')\n",
        "ax[0, 2].title.set_text('Queesntown')\n",
        "\n",
        "plt.show()"
      ],
      "execution_count": 28,
      "outputs": [
        {
          "output_type": "display_data",
          "data": {
            "image/png": "[encoded data removed]",
            "text/plain": [
              "<Figure size 432x288 with 3 Axes>"
            ]
          },
          "metadata": {
            "tags": [],
            "needs_background": "light"
          }
        }
      ]
    }
  ]
}